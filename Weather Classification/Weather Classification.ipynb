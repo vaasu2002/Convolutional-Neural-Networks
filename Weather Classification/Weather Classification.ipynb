{
  "nbformat": 4,
  "nbformat_minor": 0,
  "metadata": {
    "colab": {
      "name": "Weather Classification.ipynb",
      "provenance": []
    },
    "kernelspec": {
      "name": "python3",
      "display_name": "Python 3"
    },
    "language_info": {
      "name": "python"
    },
    "accelerator": "GPU"
  },
  "cells": [
    {
      "cell_type": "code",
      "execution_count": 11,
      "metadata": {
        "id": "1WhO43u95GSt"
      },
      "outputs": [],
      "source": [
        "from tensorflow import keras\n",
        "import numpy as np\n",
        "from keras.preprocessing.image import load_img, img_to_array\n",
        "import matplotlib.pyplot as plt\n",
        "from tensorflow.keras.optimizers import Adam\n",
        "from tensorflow.keras.preprocessing.image import ImageDataGenerator\n",
        "from tensorflow.keras.layers import Conv2D, MaxPooling2D, Flatten, Dense, Dropout\n",
        "from tensorflow.keras.models import Sequential\n",
        "from tensorflow.keras.callbacks import EarlyStopping, ModelCheckpoint"
      ]
    },
    {
      "cell_type": "code",
      "source": [
        "TRAINING_DIR = '/content/drive/MyDrive/PROJECT/WEATHER CLASSIFICATION/train'\n",
        "VALIDATION_DIR = '/content/drive/MyDrive/PROJECT/WEATHER CLASSIFICATION/validation'"
      ],
      "metadata": {
        "id": "C7fdxfYgJqjm"
      },
      "execution_count": 2,
      "outputs": []
    },
    {
      "cell_type": "code",
      "source": [
        "train_datagen = ImageDataGenerator(rescale = 1/255.0,\n",
        "                                   rotation_range=30,\n",
        "                                   zoom_range=0.4,\n",
        "                                   horizontal_flip=True)"
      ],
      "metadata": {
        "id": "BTCcgTmXJ0oy"
      },
      "execution_count": 5,
      "outputs": []
    },
    {
      "cell_type": "code",
      "source": [
        "train_generator = train_datagen.flow_from_directory(TRAINING_DIR,\n",
        "                                                    batch_size=16,\n",
        "                                                    class_mode='categorical',\n",
        "                                                    target_size=(256, 256))\n",
        "validation_datagen = ImageDataGenerator(rescale = 1/255.0)"
      ],
      "metadata": {
        "colab": {
          "base_uri": "https://localhost:8080/"
        },
        "id": "yOP8zCF3J5nj",
        "outputId": "f212f08a-25d8-4e1d-8d00-27e056176225"
      },
      "execution_count": 6,
      "outputs": [
        {
          "output_type": "stream",
          "name": "stdout",
          "text": [
            "Found 1357 images belonging to 5 classes.\n"
          ]
        }
      ]
    },
    {
      "cell_type": "code",
      "source": [
        "validation_generator = validation_datagen.flow_from_directory(VALIDATION_DIR,\n",
        "                                                              batch_size=16,\n",
        "                                                              class_mode='categorical',\n",
        "                                                              target_size=(256, 256))"
      ],
      "metadata": {
        "colab": {
          "base_uri": "https://localhost:8080/"
        },
        "id": "0dcuf3ElKA6V",
        "outputId": "4c41bfa8-5587-45f2-e942-6f9ccdd028a3"
      },
      "execution_count": 7,
      "outputs": [
        {
          "output_type": "stream",
          "name": "stdout",
          "text": [
            "Found 143 images belonging to 5 classes.\n"
          ]
        }
      ]
    },
    {
      "cell_type": "code",
      "source": [
        "model = Sequential([\n",
        "    Conv2D(16, (3, 3), activation='relu', input_shape=(256, 256, 3)),\n",
        "    MaxPooling2D(2, 2),\n",
        "    Conv2D(32, (3, 3), activation='relu'),\n",
        "    MaxPooling2D(2, 2),\n",
        "    Conv2D(64, (3, 3), activation='relu'),\n",
        "    Conv2D(64, (3, 3), activation='relu'),\n",
        "    MaxPooling2D(2, 2),\n",
        "    Conv2D(128, (3, 3), activation='relu'),\n",
        "    Conv2D(128, (3, 3), activation='relu'),\n",
        "    MaxPooling2D(2, 2),\n",
        "    Conv2D(256, (3, 3), activation='relu'),\n",
        "    Conv2D(256, (3, 3), activation='relu'),\n",
        "    Conv2D(256, (3, 3), activation='relu'),\n",
        "    MaxPooling2D(2, 2),\n",
        "    Flatten(),\n",
        "    Dense(512, activation='relu'),\n",
        "    Dense(512, activation='relu'),\n",
        "    Dense(5, activation='softmax')\n",
        "])"
      ],
      "metadata": {
        "id": "l56ExKKtKOfX"
      },
      "execution_count": 8,
      "outputs": []
    },
    {
      "cell_type": "code",
      "source": [
        "model.compile(optimizer='Adam', \n",
        "              loss='categorical_crossentropy', \n",
        "              metrics =['accuracy'])\n",
        "history = model.fit(train_generator,\n",
        "                    epochs=30,\n",
        "                    validation_data=validation_generator)"
      ],
      "metadata": {
        "colab": {
          "base_uri": "https://localhost:8080/"
        },
        "id": "trDClVxsKOhk",
        "outputId": "277b002c-c20a-4926-f49c-7e0bf67992ee"
      },
      "execution_count": 9,
      "outputs": [
        {
          "output_type": "stream",
          "name": "stdout",
          "text": [
            "Epoch 1/30\n",
            "85/85 [==============================] - 559s 6s/step - loss: 1.3839 - accuracy: 0.3596 - val_loss: 1.3527 - val_accuracy: 0.3077\n",
            "Epoch 2/30\n",
            "85/85 [==============================] - 36s 425ms/step - loss: 1.0634 - accuracy: 0.5129 - val_loss: 1.1029 - val_accuracy: 0.6084\n",
            "Epoch 3/30\n",
            "85/85 [==============================] - 36s 426ms/step - loss: 1.0675 - accuracy: 0.5136 - val_loss: 1.1666 - val_accuracy: 0.4336\n",
            "Epoch 4/30\n",
            "85/85 [==============================] - 36s 425ms/step - loss: 0.9650 - accuracy: 0.5637 - val_loss: 1.0225 - val_accuracy: 0.5455\n",
            "Epoch 5/30\n",
            "85/85 [==============================] - 37s 430ms/step - loss: 0.9760 - accuracy: 0.5704 - val_loss: 1.1428 - val_accuracy: 0.4196\n",
            "Epoch 6/30\n",
            "85/85 [==============================] - 36s 428ms/step - loss: 0.9577 - accuracy: 0.5645 - val_loss: 1.0154 - val_accuracy: 0.4406\n",
            "Epoch 7/30\n",
            "85/85 [==============================] - 37s 431ms/step - loss: 0.9511 - accuracy: 0.5704 - val_loss: 1.0735 - val_accuracy: 0.4406\n",
            "Epoch 8/30\n",
            "85/85 [==============================] - 37s 430ms/step - loss: 0.9325 - accuracy: 0.5748 - val_loss: 1.0711 - val_accuracy: 0.4615\n",
            "Epoch 9/30\n",
            "85/85 [==============================] - 37s 434ms/step - loss: 0.9090 - accuracy: 0.5836 - val_loss: 1.0441 - val_accuracy: 0.4336\n",
            "Epoch 10/30\n",
            "85/85 [==============================] - 37s 437ms/step - loss: 0.8984 - accuracy: 0.5954 - val_loss: 1.0123 - val_accuracy: 0.5664\n",
            "Epoch 11/30\n",
            "85/85 [==============================] - 37s 436ms/step - loss: 0.8993 - accuracy: 0.5976 - val_loss: 1.0307 - val_accuracy: 0.5664\n",
            "Epoch 12/30\n",
            "85/85 [==============================] - 37s 440ms/step - loss: 0.8793 - accuracy: 0.6161 - val_loss: 1.0928 - val_accuracy: 0.4965\n",
            "Epoch 13/30\n",
            "85/85 [==============================] - 37s 439ms/step - loss: 0.9137 - accuracy: 0.5947 - val_loss: 0.9539 - val_accuracy: 0.5874\n",
            "Epoch 14/30\n",
            "85/85 [==============================] - 38s 443ms/step - loss: 0.8337 - accuracy: 0.6360 - val_loss: 0.9943 - val_accuracy: 0.5874\n",
            "Epoch 15/30\n",
            "85/85 [==============================] - 38s 441ms/step - loss: 0.8623 - accuracy: 0.6308 - val_loss: 1.1018 - val_accuracy: 0.5804\n",
            "Epoch 16/30\n",
            "85/85 [==============================] - 37s 442ms/step - loss: 0.8480 - accuracy: 0.6330 - val_loss: 0.8807 - val_accuracy: 0.6294\n",
            "Epoch 17/30\n",
            "85/85 [==============================] - 38s 449ms/step - loss: 0.8298 - accuracy: 0.6485 - val_loss: 0.8805 - val_accuracy: 0.6084\n",
            "Epoch 18/30\n",
            "85/85 [==============================] - 37s 439ms/step - loss: 0.8276 - accuracy: 0.6433 - val_loss: 0.9445 - val_accuracy: 0.6014\n",
            "Epoch 19/30\n",
            "85/85 [==============================] - 37s 435ms/step - loss: 0.8009 - accuracy: 0.6433 - val_loss: 1.0069 - val_accuracy: 0.5944\n",
            "Epoch 20/30\n",
            "85/85 [==============================] - 37s 435ms/step - loss: 0.7791 - accuracy: 0.6433 - val_loss: 0.7645 - val_accuracy: 0.6783\n",
            "Epoch 21/30\n",
            "85/85 [==============================] - 37s 440ms/step - loss: 0.7943 - accuracy: 0.6618 - val_loss: 0.8484 - val_accuracy: 0.6434\n",
            "Epoch 22/30\n",
            "85/85 [==============================] - 38s 444ms/step - loss: 0.7594 - accuracy: 0.6618 - val_loss: 0.8671 - val_accuracy: 0.6364\n",
            "Epoch 23/30\n",
            "85/85 [==============================] - 38s 443ms/step - loss: 0.8063 - accuracy: 0.6566 - val_loss: 1.2432 - val_accuracy: 0.5944\n",
            "Epoch 24/30\n",
            "85/85 [==============================] - 37s 439ms/step - loss: 0.7715 - accuracy: 0.6632 - val_loss: 0.7804 - val_accuracy: 0.6573\n",
            "Epoch 25/30\n",
            "85/85 [==============================] - 37s 436ms/step - loss: 0.7781 - accuracy: 0.6573 - val_loss: 0.8800 - val_accuracy: 0.6154\n",
            "Epoch 26/30\n",
            "85/85 [==============================] - 38s 442ms/step - loss: 0.7937 - accuracy: 0.6618 - val_loss: 0.8575 - val_accuracy: 0.6503\n",
            "Epoch 27/30\n",
            "85/85 [==============================] - 38s 441ms/step - loss: 0.7340 - accuracy: 0.6758 - val_loss: 0.8682 - val_accuracy: 0.6643\n",
            "Epoch 28/30\n",
            "85/85 [==============================] - 37s 433ms/step - loss: 0.6873 - accuracy: 0.6986 - val_loss: 0.7444 - val_accuracy: 0.6364\n",
            "Epoch 29/30\n",
            "85/85 [==============================] - 37s 437ms/step - loss: 0.7112 - accuracy: 0.6861 - val_loss: 0.9658 - val_accuracy: 0.6364\n",
            "Epoch 30/30\n",
            "85/85 [==============================] - 37s 437ms/step - loss: 0.6906 - accuracy: 0.6905 - val_loss: 0.7287 - val_accuracy: 0.6503\n"
          ]
        }
      ]
    },
    {
      "cell_type": "code",
      "source": [
        "model.save('trained_model.h5')"
      ],
      "metadata": {
        "id": "he7nTjdfKOk9"
      },
      "execution_count": 10,
      "outputs": []
    },
    {
      "cell_type": "code",
      "source": [
        "categories = ['Cloudy','Foggy','Rainy','Shine','Sunrise']"
      ],
      "metadata": {
        "id": "gkupzoJtQsp1"
      },
      "execution_count": 12,
      "outputs": []
    },
    {
      "cell_type": "code",
      "source": [
        "def preprocess_image(path):\n",
        "    img = load_img(path, target_size = (256, 256))\n",
        "    a = img_to_array(img)\n",
        "    a = np.expand_dims(a, axis = 0)\n",
        "    a /= 255.0\n",
        "    return a"
      ],
      "metadata": {
        "id": "co8Ib9ZJQsvo"
      },
      "execution_count": 13,
      "outputs": []
    },
    {
      "cell_type": "code",
      "source": [
        "image_path = '/content/drive/MyDrive/PROJECT/WEATHER CLASSIFICATION/validation/rainy/rain277.jpg'\n",
        "image = preprocess_image(image_path)\n",
        "predict = model.predict(image)\n",
        "result = np.argmax(predict)\n",
        "print(categories[result])"
      ],
      "metadata": {
        "colab": {
          "base_uri": "https://localhost:8080/"
        },
        "id": "nCyPyvAEQszg",
        "outputId": "0197c453-8c59-4f4b-a109-303a22cbd56b"
      },
      "execution_count": 16,
      "outputs": [
        {
          "output_type": "stream",
          "name": "stdout",
          "text": [
            "Rainy\n"
          ]
        }
      ]
    },
    {
      "cell_type": "code",
      "source": [
        "image_path = '/content/drive/MyDrive/PROJECT/WEATHER CLASSIFICATION/validation/shine/shine230.jpg'\n",
        "image = preprocess_image(image_path)\n",
        "predict = model.predict(image)\n",
        "result = np.argmax(predict)\n",
        "print(categories[result])"
      ],
      "metadata": {
        "colab": {
          "base_uri": "https://localhost:8080/"
        },
        "id": "qv7u9auNRQrw",
        "outputId": "a05e3bb4-8fa8-4374-8506-df26b772d503"
      },
      "execution_count": 17,
      "outputs": [
        {
          "output_type": "stream",
          "name": "stdout",
          "text": [
            "Shine\n"
          ]
        }
      ]
    },
    {
      "cell_type": "code",
      "source": [
        "image_path = '/content/drive/MyDrive/PROJECT/WEATHER CLASSIFICATION/validation/sunrise/sunrise333.jpg'\n",
        "image = preprocess_image(image_path)\n",
        "predict = model.predict(image)\n",
        "result = np.argmax(predict)\n",
        "print(categories[result])"
      ],
      "metadata": {
        "colab": {
          "base_uri": "https://localhost:8080/"
        },
        "id": "yXV51sSvRTM6",
        "outputId": "37bc84d3-a01b-42ba-90c3-fa545fae68c9"
      },
      "execution_count": 18,
      "outputs": [
        {
          "output_type": "stream",
          "name": "stdout",
          "text": [
            "Sunrise\n"
          ]
        }
      ]
    }
  ]
}
