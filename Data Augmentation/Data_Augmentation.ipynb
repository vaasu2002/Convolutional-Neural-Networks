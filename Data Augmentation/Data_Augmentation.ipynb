{
  "nbformat": 4,
  "nbformat_minor": 0,
  "metadata": {
    "colab": {
      "name": "Data Augmentation.ipynb",
      "provenance": []
    },
    "kernelspec": {
      "name": "python3",
      "display_name": "Python 3"
    },
    "language_info": {
      "name": "python"
    }
  },
  "cells": [
    {
      "cell_type": "code",
      "execution_count": 1,
      "metadata": {
        "id": "2p5i2-i8VaCu"
      },
      "outputs": [],
      "source": [
        "import tensorflow as tf\n",
        "from tensorflow.keras.preprocessing.image import ImageDataGenerator,load_img ,img_to_array,array_to_img"
      ]
    },
    {
      "cell_type": "code",
      "source": [
        "dataGen = tf.keras.preprocessing.image.ImageDataGenerator(\n",
        "    featurewise_center=False, samplewise_center=False,\n",
        "    featurewise_std_normalization=False, samplewise_std_normalization=False,\n",
        "    zca_whitening=False, zca_epsilon=1e-06, rotation_range=30, width_shift_range=0.4,\n",
        "    height_shift_range=0.4, brightness_range=None, shear_range=0.4, zoom_range=0.3,\n",
        "    channel_shift_range=0.0, fill_mode='nearest', cval=0.0,\n",
        "    horizontal_flip=True, vertical_flip=True, rescale=None,\n",
        "    preprocessing_function=None, data_format=None, validation_split=0.0, dtype=None\n",
        ")"
      ],
      "metadata": {
        "id": "sX04AFxTVyRj"
      },
      "execution_count": 2,
      "outputs": []
    },
    {
      "cell_type": "code",
      "source": [
        "img = load_img('/content/car.jpg')\n",
        "array = img_to_array(img)"
      ],
      "metadata": {
        "id": "g2QH1__tWY8a"
      },
      "execution_count": 3,
      "outputs": []
    },
    {
      "cell_type": "code",
      "source": [
        "array.shape"
      ],
      "metadata": {
        "colab": {
          "base_uri": "https://localhost:8080/"
        },
        "id": "zSfP_G-zhuNa",
        "outputId": "3a472c1f-73d7-45bf-d013-3d23ccecfdc8"
      },
      "execution_count": 4,
      "outputs": [
        {
          "output_type": "execute_result",
          "data": {
            "text/plain": [
              "(900, 1200, 3)"
            ]
          },
          "metadata": {},
          "execution_count": 4
        }
      ]
    },
    {
      "cell_type": "code",
      "source": [
        "array = array.reshape((1,) + array.shape)"
      ],
      "metadata": {
        "id": "L90fyI6YhvPp"
      },
      "execution_count": 5,
      "outputs": []
    },
    {
      "cell_type": "code",
      "source": [
        "array.shape"
      ],
      "metadata": {
        "colab": {
          "base_uri": "https://localhost:8080/"
        },
        "id": "nC8kSx7Zh10J",
        "outputId": "cf19f174-714f-47d4-dc9e-f5e56c699c63"
      },
      "execution_count": 6,
      "outputs": [
        {
          "output_type": "execute_result",
          "data": {
            "text/plain": [
              "(1, 900, 1200, 3)"
            ]
          },
          "metadata": {},
          "execution_count": 6
        }
      ]
    },
    {
      "cell_type": "code",
      "source": [
        "i = 0\n",
        "for batch in dataGen.flow(array,batch_size = 1, save_to_dir = '/content/Augmented Images',save_prefix='car',save_format='jpeg'):\n",
        "  i = i + 1\n",
        "  if(i>20):\n",
        "    break"
      ],
      "metadata": {
        "id": "j0VMra9Eh5nA"
      },
      "execution_count": 7,
      "outputs": []
    },
    {
      "cell_type": "code",
      "source": [
        ""
      ],
      "metadata": {
        "id": "UPsQT_imihcD"
      },
      "execution_count": 7,
      "outputs": []
    }
  ]
}